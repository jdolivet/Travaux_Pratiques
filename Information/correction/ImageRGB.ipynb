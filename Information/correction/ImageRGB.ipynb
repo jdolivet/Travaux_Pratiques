{
 "cells": [
  {
   "cell_type": "markdown",
   "metadata": {},
   "source": [
    "<div align=\"right\"><img src=\"../../images/customLogo.gif\" alt=\"Logo ISN\"/></div>\n",
    "<div align=\"center\"><h1>ISN - Travaux Pratiques</h1></div>\n",
    "<div align=\"center\"><h2>Représentation d'une image : pixel</h2></div>\n",
    "<div align=\"right\"><a href=\"https://creativecommons.org/licenses/by-nc-sa/2.0/fr/\">Licence CC BY-NC-SA</a></div>\n",
    "\n",
    "---\n"
   ]
  },
  {
   "cell_type": "markdown",
   "metadata": {},
   "source": [
    "Ce notebook vous permet d'observer le comportement de la fonction utilisée dans le cadre du TP."
   ]
  },
  {
   "cell_type": "markdown",
   "metadata": {},
   "source": [
    "# Représentation de l'image"
   ]
  },
  {
   "cell_type": "markdown",
   "metadata": {},
   "source": [
    "Essayons tout d'abord d'utiliser le format `.ppm` et afficher l'image correspondante."
   ]
  },
  {
   "cell_type": "code",
   "execution_count": null,
   "metadata": {},
   "outputs": [],
   "source": [
    "# Verification du format de l'image : on explore les premières lignes du fichier\n",
    "!head ImageSecrete.ppm"
   ]
  },
  {
   "cell_type": "code",
   "execution_count": null,
   "metadata": {},
   "outputs": [],
   "source": [
    "# On importe une fonction permettant d'obtenir la matrice correspondant à une image PPM\n",
    "from matricePPM import ppm_vers_matrice\n",
    "\n",
    "# On extrait la matrice de l'image\n",
    "matriceSource = ppm_vers_matrice(\"ImageSecrete.ppm\")"
   ]
  },
  {
   "cell_type": "code",
   "execution_count": null,
   "metadata": {},
   "outputs": [],
   "source": [
    "# On utilise les bibliothèques Python pour afficher l'image définie par une matrice\n",
    "%matplotlib inline\n",
    "from matplotlib.pyplot import imshow\n",
    "\n",
    "imshow(matriceSource)"
   ]
  },
  {
   "cell_type": "markdown",
   "metadata": {},
   "source": [
    "# Copie de l'image"
   ]
  },
  {
   "cell_type": "markdown",
   "metadata": {},
   "source": [
    "La fonction ci-dessous permet de recopier une image.\n",
    "\n",
    "Le principe étant d'ouvrir le fichier `source.ppm`, récupérer les informations nécessaires puis recopier les pixels, un par un, dans un fichier `destination.ppm` que l'on aura créé pour l'occasion."
   ]
  },
  {
   "cell_type": "code",
   "execution_count": null,
   "metadata": {},
   "outputs": [],
   "source": [
    "def copieImage(src, dest):\n",
    "    \"\"\"Les paramètres sont des string.\n",
    "    src est le nom du ficher source\n",
    "    dest est le nom du fichier destination.\"\"\"\n",
    "    # On récupère l'image source\n",
    "    source = open(src,\"r\")\n",
    "    image = source.readlines()\n",
    "    source.close()\n",
    "\n",
    "    # On récupère les informations nécessaires\n",
    "    dimensions = image[2].split()\n",
    "    largeur = int(dimensions[0])\n",
    "    hauteur = int(dimensions[1])\n",
    "\n",
    "    # On créé le fichier destination\n",
    "    destination = open(dest,\"w\")\n",
    "\n",
    "    # On remplit l'entête du fichier destination\n",
    "    destination.write(\"P3\\n\")\n",
    "    destination.write(\"# Image cherchée\\n\")\n",
    "    destination.write(str(largeur) + ' ' + str(hauteur) + '\\n')\n",
    "    destination.write(\"255\\n\")\n",
    "\n",
    "    # On construit le fichier pixel par pixel\n",
    "    k = 4\n",
    "    for j in range(hauteur):\n",
    "        for i in range(largeur):\n",
    "            red = int(image[k])\n",
    "            destination.write(str(red) + '\\n')\n",
    "            green = int(image[k + 1])\n",
    "            destination.write(str(green) + '\\n')\n",
    "            blue = int(image[k + 2])\n",
    "            destination.write(str(blue) + '\\n')\n",
    "            k += 3\n",
    "\n",
    "    # On referme tout\n",
    "    destination.close()\n"
   ]
  },
  {
   "cell_type": "markdown",
   "metadata": {},
   "source": [
    "Essayons donc d'utiliser cette fonction."
   ]
  },
  {
   "cell_type": "code",
   "execution_count": null,
   "metadata": {},
   "outputs": [],
   "source": [
    "source = \"ImageSecrete.ppm\"\n",
    "destination = \"ImageDecryptee.ppm\"\n",
    "copieImage(source, destination)"
   ]
  },
  {
   "cell_type": "markdown",
   "metadata": {},
   "source": [
    "On peut essayer de représenter l'image nouvellement créée."
   ]
  },
  {
   "cell_type": "code",
   "execution_count": null,
   "metadata": {},
   "outputs": [],
   "source": [
    "# On extrait la matrice du fichier nouvellement créé\n",
    "matriceNouvelle = ppm_vers_matrice(\"ImageDecryptee.ppm\")\n",
    "# On représente l'image correspondant à cette nouvelle matrice\n",
    "imshow(matriceNouvelle)"
   ]
  },
  {
   "cell_type": "markdown",
   "metadata": {},
   "source": [
    "Pour le moment c'est la même image que l'image secrète!\n",
    "\n",
    "Vous pourrez (devrez?) utiliser cette fonction (en la modifiant bien évidemment) pour reconstituer une image proche de l'originale à partir des indices donnés dans l'énoncé. \n",
    "\n",
    "L'objectif étant que cette image soit intelligible."
   ]
  }
 ],
 "metadata": {
  "colab": {
   "collapsed_sections": [],
   "name": "Format_Image.ipynb",
   "provenance": [],
   "toc_visible": true,
   "version": "0.3.2"
  },
  "kernelspec": {
   "display_name": "Python 3",
   "language": "python",
   "name": "python3"
  },
  "language_info": {
   "codemirror_mode": {
    "name": "ipython",
    "version": 3
   },
   "file_extension": ".py",
   "mimetype": "text/x-python",
   "name": "python",
   "nbconvert_exporter": "python",
   "pygments_lexer": "ipython3",
   "version": "3.6.7"
  }
 },
 "nbformat": 4,
 "nbformat_minor": 2
}
